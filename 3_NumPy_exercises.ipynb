{
  "cells": [
    {
      "cell_type": "markdown",
      "metadata": {
        "id": "view-in-github",
        "colab_type": "text"
      },
      "source": [
        "<a href=\"https://colab.research.google.com/github/TimR05/freecodecamp-intro-to-numpy/blob/master/3_NumPy_exercises.ipynb\" target=\"_parent\"><img src=\"https://colab.research.google.com/assets/colab-badge.svg\" alt=\"Open In Colab\"/></a>"
      ]
    },
    {
      "cell_type": "markdown",
      "metadata": {
        "id": "A3Bmy4AZDHgk"
      },
      "source": [
        "![rmotr](https://user-images.githubusercontent.com/7065401/52071918-bda15380-2562-11e9-828c-7f95297e4a82.png)\n",
        "<hr style=\"margin-bottom: 40px;\">\n",
        "\n",
        "# NumPy exercises\n"
      ]
    },
    {
      "cell_type": "code",
      "execution_count": 2,
      "metadata": {
        "colab": {
          "base_uri": "https://localhost:8080/"
        },
        "id": "Etx27aMSDHgm",
        "outputId": "5dce870c-864e-4374-d311-96655046a89e"
      },
      "outputs": [
        {
          "output_type": "stream",
          "name": "stdout",
          "text": [
            "2.0.2\n"
          ]
        }
      ],
      "source": [
        "# Import the numpy package under the name np\n",
        "import numpy as np\n",
        "\n",
        "# Print the numpy version and the configuration\n",
        "print(np.__version__)"
      ]
    },
    {
      "cell_type": "markdown",
      "metadata": {
        "id": "7239N_cMDHgn"
      },
      "source": [
        "![purple-divider](https://user-images.githubusercontent.com/7065401/52071927-c1cd7100-2562-11e9-908a-dde91ba14e59.png)\n",
        "\n",
        "## Array creation"
      ]
    },
    {
      "cell_type": "markdown",
      "metadata": {
        "id": "0YjYauvJDHgn"
      },
      "source": [
        "### Create a numpy array of size 10, filled with zeros."
      ]
    },
    {
      "cell_type": "code",
      "execution_count": 8,
      "metadata": {
        "colab": {
          "base_uri": "https://localhost:8080/"
        },
        "id": "GeTOtaJ4DHgn",
        "outputId": "427d7ae9-7e03-4654-9bcd-98b0589b0d36"
      },
      "outputs": [
        {
          "output_type": "execute_result",
          "data": {
            "text/plain": [
              "array([0, 0, 0, 0, 0, 0, 0, 0, 0, 0])"
            ]
          },
          "metadata": {},
          "execution_count": 8
        }
      ],
      "source": [
        "np.array([0] * 10)\n"
      ]
    },
    {
      "cell_type": "code",
      "execution_count": 4,
      "metadata": {
        "cell_type": "solution",
        "colab": {
          "base_uri": "https://localhost:8080/"
        },
        "id": "Y3lNQnMBDHgn",
        "outputId": "3f9987b4-44bb-434b-f889-14f028602d0d"
      },
      "outputs": [
        {
          "output_type": "execute_result",
          "data": {
            "text/plain": [
              "array([0., 0., 0., 0., 0., 0., 0., 0., 0., 0.])"
            ]
          },
          "metadata": {},
          "execution_count": 4
        }
      ],
      "source": [
        "#np.array([0] * 10)\n",
        "np.zeros(10)"
      ]
    },
    {
      "cell_type": "markdown",
      "metadata": {
        "id": "j2maUqmfDHgn"
      },
      "source": [
        "![green-divider](https://user-images.githubusercontent.com/7065401/52071924-c003ad80-2562-11e9-8297-1c6595f8a7ff.png)\n",
        "\n",
        "### Create a numpy array with values ranging from 10 to 49"
      ]
    },
    {
      "cell_type": "code",
      "execution_count": 9,
      "metadata": {
        "colab": {
          "base_uri": "https://localhost:8080/"
        },
        "id": "xwImY0SqDHgo",
        "outputId": "ad6abbd2-e8c0-4c2b-d6c0-04151fbb751e"
      },
      "outputs": [
        {
          "output_type": "execute_result",
          "data": {
            "text/plain": [
              "array([10, 11, 12, 13, 14, 15, 16, 17, 18, 19, 20, 21, 22, 23, 24, 25, 26,\n",
              "       27, 28, 29, 30, 31, 32, 33, 34, 35, 36, 37, 38, 39, 40, 41, 42, 43,\n",
              "       44, 45, 46, 47, 48, 49])"
            ]
          },
          "metadata": {},
          "execution_count": 9
        }
      ],
      "source": [
        "np.arange(10,50)\n"
      ]
    },
    {
      "cell_type": "code",
      "execution_count": 10,
      "metadata": {
        "cell_type": "solution",
        "colab": {
          "base_uri": "https://localhost:8080/"
        },
        "id": "6ERRxUkjDHgo",
        "outputId": "5484e55d-c4de-4037-b35c-b47cc5d33e17"
      },
      "outputs": [
        {
          "output_type": "execute_result",
          "data": {
            "text/plain": [
              "array([10, 11, 12, 13, 14, 15, 16, 17, 18, 19, 20, 21, 22, 23, 24, 25, 26,\n",
              "       27, 28, 29, 30, 31, 32, 33, 34, 35, 36, 37, 38, 39, 40, 41, 42, 43,\n",
              "       44, 45, 46, 47, 48, 49])"
            ]
          },
          "metadata": {},
          "execution_count": 10
        }
      ],
      "source": [
        "np.arange(10,50)"
      ]
    },
    {
      "cell_type": "markdown",
      "metadata": {
        "id": "SxpyiOZMDHgo"
      },
      "source": [
        "![green-divider](https://user-images.githubusercontent.com/7065401/52071924-c003ad80-2562-11e9-8297-1c6595f8a7ff.png)\n",
        "\n",
        "### Create a numpy matrix of 2*2 integers, filled with ones."
      ]
    },
    {
      "cell_type": "code",
      "execution_count": 17,
      "metadata": {
        "colab": {
          "base_uri": "https://localhost:8080/"
        },
        "id": "kYlv-uhyDHgo",
        "outputId": "67bbcaef-9ec6-4fa4-f618-cd4198a8cdd5"
      },
      "outputs": [
        {
          "output_type": "execute_result",
          "data": {
            "text/plain": [
              "array([['1', '1'],\n",
              "       ['1', '1']], dtype='<U1')"
            ]
          },
          "metadata": {},
          "execution_count": 17
        }
      ],
      "source": [
        "np.ones([2,2], dtype=int)\n"
      ]
    },
    {
      "cell_type": "code",
      "execution_count": 14,
      "metadata": {
        "cell_type": "solution",
        "colab": {
          "base_uri": "https://localhost:8080/"
        },
        "id": "VlF0yrXqDHgo",
        "outputId": "27d30304-de7b-49cd-eebe-a391c73439c6"
      },
      "outputs": [
        {
          "output_type": "execute_result",
          "data": {
            "text/plain": [
              "array([[1, 1],\n",
              "       [1, 1]])"
            ]
          },
          "metadata": {},
          "execution_count": 14
        }
      ],
      "source": [
        "np.ones([2,2], dtype=int)"
      ]
    },
    {
      "cell_type": "markdown",
      "metadata": {
        "id": "QBqNwU-PDHgo"
      },
      "source": [
        "![green-divider](https://user-images.githubusercontent.com/7065401/52071924-c003ad80-2562-11e9-8297-1c6595f8a7ff.png)\n",
        "\n",
        "### Create a numpy matrix of 3*2 float numbers, filled with ones."
      ]
    },
    {
      "cell_type": "code",
      "execution_count": 21,
      "metadata": {
        "colab": {
          "base_uri": "https://localhost:8080/"
        },
        "id": "uMHN_29sDHgo",
        "outputId": "0d71edd5-b5c5-4249-e1aa-1cb446c99eee"
      },
      "outputs": [
        {
          "output_type": "execute_result",
          "data": {
            "text/plain": [
              "array([[[[1., 1., 1., 1., 1.],\n",
              "         [1., 1., 1., 1., 1.]],\n",
              "\n",
              "        [[1., 1., 1., 1., 1.],\n",
              "         [1., 1., 1., 1., 1.]]],\n",
              "\n",
              "\n",
              "       [[[1., 1., 1., 1., 1.],\n",
              "         [1., 1., 1., 1., 1.]],\n",
              "\n",
              "        [[1., 1., 1., 1., 1.],\n",
              "         [1., 1., 1., 1., 1.]]],\n",
              "\n",
              "\n",
              "       [[[1., 1., 1., 1., 1.],\n",
              "         [1., 1., 1., 1., 1.]],\n",
              "\n",
              "        [[1., 1., 1., 1., 1.],\n",
              "         [1., 1., 1., 1., 1.]]]])"
            ]
          },
          "metadata": {},
          "execution_count": 21
        }
      ],
      "source": [
        "np.ones([3,2,2,5], dtype = float)\n"
      ]
    },
    {
      "cell_type": "code",
      "execution_count": null,
      "metadata": {
        "cell_type": "solution",
        "id": "QwaRD6wYDHgo"
      },
      "outputs": [],
      "source": [
        "np.ones([3,2], dtype=np.float)"
      ]
    },
    {
      "cell_type": "markdown",
      "metadata": {
        "id": "J1lVpYp3DHgo"
      },
      "source": [
        "![green-divider](https://user-images.githubusercontent.com/7065401/52071924-c003ad80-2562-11e9-8297-1c6595f8a7ff.png)\n",
        "\n",
        "### Given the X numpy array, create a new numpy array with the same shape and type as X, filled with ones."
      ]
    },
    {
      "cell_type": "code",
      "execution_count": 26,
      "metadata": {
        "colab": {
          "base_uri": "https://localhost:8080/"
        },
        "id": "HsUoUqsADHgo",
        "outputId": "aa7ca497-9c6b-495f-f6ae-b65a7518fb04"
      },
      "outputs": [
        {
          "output_type": "execute_result",
          "data": {
            "text/plain": [
              "array([1, 1, 1, 1])"
            ]
          },
          "metadata": {},
          "execution_count": 26
        }
      ],
      "source": [
        "X = np.arange(4, dtype=int)\n",
        "\n",
        "np.ones_like(X)\n",
        "\n",
        "X = np.ones(4, dtype=int)\n",
        "X"
      ]
    },
    {
      "cell_type": "code",
      "execution_count": null,
      "metadata": {
        "cell_type": "solution",
        "id": "SqK5MF1tDHgo"
      },
      "outputs": [],
      "source": [
        "X = np.arange(4, dtype=np.int)\n",
        "\n",
        "np.ones_like(X)"
      ]
    },
    {
      "cell_type": "markdown",
      "metadata": {
        "id": "IIQQw5UxDHgp"
      },
      "source": [
        "![green-divider](https://user-images.githubusercontent.com/7065401/52071924-c003ad80-2562-11e9-8297-1c6595f8a7ff.png)\n",
        "\n",
        "### Given the X numpy matrix, create a new numpy matrix with the same shape and type as X, filled with zeros."
      ]
    },
    {
      "cell_type": "code",
      "execution_count": 27,
      "metadata": {
        "colab": {
          "base_uri": "https://localhost:8080/"
        },
        "id": "luPDju02DHgp",
        "outputId": "c720afa3-e7c5-497e-8989-b07f38abb065"
      },
      "outputs": [
        {
          "output_type": "execute_result",
          "data": {
            "text/plain": [
              "array([0, 0, 0, 0])"
            ]
          },
          "metadata": {},
          "execution_count": 27
        }
      ],
      "source": [
        "np.zeros_like(X)\n"
      ]
    },
    {
      "cell_type": "code",
      "execution_count": 30,
      "metadata": {
        "cell_type": "solution",
        "colab": {
          "base_uri": "https://localhost:8080/"
        },
        "id": "EYezOYiWDHgp",
        "outputId": "66f5abb7-a199-4fa1-a495-f24bb9bd83b1"
      },
      "outputs": [
        {
          "output_type": "execute_result",
          "data": {
            "text/plain": [
              "array([[0, 0, 0],\n",
              "       [0, 0, 0]])"
            ]
          },
          "metadata": {},
          "execution_count": 30
        }
      ],
      "source": [
        "X = np.array([[1,2,3], [4,5,6]], dtype=int)\n",
        "X\n",
        "np.zeros_like(X)"
      ]
    },
    {
      "cell_type": "markdown",
      "metadata": {
        "id": "ELynw7XWDHgp"
      },
      "source": [
        "![green-divider](https://user-images.githubusercontent.com/7065401/52071924-c003ad80-2562-11e9-8297-1c6595f8a7ff.png)\n",
        "\n",
        "### Create a numpy matrix of 4*4 integers, filled with fives."
      ]
    },
    {
      "cell_type": "code",
      "execution_count": 33,
      "metadata": {
        "colab": {
          "base_uri": "https://localhost:8080/"
        },
        "id": "rdmXZftODHgp",
        "outputId": "f0707b5c-1012-4d9d-f303-b44d371245c1"
      },
      "outputs": [
        {
          "output_type": "execute_result",
          "data": {
            "text/plain": [
              "array([[5, 5, 5, 5],\n",
              "       [5, 5, 5, 5],\n",
              "       [5, 5, 5, 5],\n",
              "       [5, 5, 5, 5]])"
            ]
          },
          "metadata": {},
          "execution_count": 33
        }
      ],
      "source": [
        "np.ones([4,4], dtype=int)*5\n"
      ]
    },
    {
      "cell_type": "code",
      "execution_count": null,
      "metadata": {
        "cell_type": "solution",
        "id": "0rbzP0NNDHgp"
      },
      "outputs": [],
      "source": [
        "np.ones([4,4], dtype=np.int) * 5"
      ]
    },
    {
      "cell_type": "markdown",
      "metadata": {
        "id": "eEHgvthYDHgp"
      },
      "source": [
        "![green-divider](https://user-images.githubusercontent.com/7065401/52071924-c003ad80-2562-11e9-8297-1c6595f8a7ff.png)\n",
        "\n",
        "### Given the X numpy matrix, create a new numpy matrix with the same shape and type as X, filled with sevens."
      ]
    },
    {
      "cell_type": "code",
      "execution_count": 34,
      "metadata": {
        "colab": {
          "base_uri": "https://localhost:8080/"
        },
        "id": "Xcgs1cCRDHgp",
        "outputId": "25b4384e-4e4e-4508-db28-cd33b6acbdbf"
      },
      "outputs": [
        {
          "output_type": "execute_result",
          "data": {
            "text/plain": [
              "array([[7, 7, 7],\n",
              "       [7, 7, 7]])"
            ]
          },
          "metadata": {},
          "execution_count": 34
        }
      ],
      "source": [
        "np.ones_like(X)*7\n"
      ]
    },
    {
      "cell_type": "code",
      "execution_count": 36,
      "metadata": {
        "cell_type": "solution",
        "colab": {
          "base_uri": "https://localhost:8080/"
        },
        "id": "e0a6BuplDHgp",
        "outputId": "aabeedf5-fe34-40f6-abac-66fd112dafd8"
      },
      "outputs": [
        {
          "output_type": "execute_result",
          "data": {
            "text/plain": [
              "array([[7, 7],\n",
              "       [7, 7]])"
            ]
          },
          "metadata": {},
          "execution_count": 36
        }
      ],
      "source": [
        "X = np.array([[2,3], [6,2]], dtype=int)\n",
        "\n",
        "np.ones_like(X) * 7"
      ]
    },
    {
      "cell_type": "markdown",
      "metadata": {
        "id": "UNQwBfGGDHgp"
      },
      "source": [
        "![green-divider](https://user-images.githubusercontent.com/7065401/52071924-c003ad80-2562-11e9-8297-1c6595f8a7ff.png)\n",
        "\n",
        "### Create a 3*3 identity numpy matrix with ones on the diagonal and zeros elsewhere."
      ]
    },
    {
      "cell_type": "code",
      "execution_count": 42,
      "metadata": {
        "colab": {
          "base_uri": "https://localhost:8080/"
        },
        "id": "JFHb7FsQDHgp",
        "outputId": "f8702073-4c3b-4500-e7ff-cabab5e2ad45"
      },
      "outputs": [
        {
          "output_type": "execute_result",
          "data": {
            "text/plain": [
              "array([[1., 0., 0.],\n",
              "       [0., 1., 0.],\n",
              "       [0., 0., 1.]])"
            ]
          },
          "metadata": {},
          "execution_count": 42
        }
      ],
      "source": [
        "np.eye(3)"
      ]
    },
    {
      "cell_type": "code",
      "execution_count": null,
      "metadata": {
        "cell_type": "solution",
        "id": "GO0SczPbDHgp"
      },
      "outputs": [],
      "source": [
        "#np.eye(3)\n",
        "np.identity(3)"
      ]
    },
    {
      "cell_type": "markdown",
      "metadata": {
        "id": "_geHuyBBDHgp"
      },
      "source": [
        "![green-divider](https://user-images.githubusercontent.com/7065401/52071924-c003ad80-2562-11e9-8297-1c6595f8a7ff.png)\n",
        "\n",
        "### Create a numpy array, filled with 3 random integer values between 1 and 10."
      ]
    },
    {
      "cell_type": "code",
      "execution_count": 45,
      "metadata": {
        "colab": {
          "base_uri": "https://localhost:8080/"
        },
        "id": "_xlhODo-DHgq",
        "outputId": "4545fe12-41ef-4ddd-e6b4-cc56487a8737"
      },
      "outputs": [
        {
          "output_type": "execute_result",
          "data": {
            "text/plain": [
              "array([[78, 18],\n",
              "       [68, 97],\n",
              "       [91, 97]])"
            ]
          },
          "metadata": {},
          "execution_count": 45
        }
      ],
      "source": [
        "np.random.randint(100, size=[3,2])\n"
      ]
    },
    {
      "cell_type": "code",
      "execution_count": null,
      "metadata": {
        "cell_type": "solution",
        "id": "WprOzmxzDHgq"
      },
      "outputs": [],
      "source": [
        "np.random.randint(10, size=3)"
      ]
    },
    {
      "cell_type": "markdown",
      "metadata": {
        "id": "5mnBiyYaDHgq"
      },
      "source": [
        "![green-divider](https://user-images.githubusercontent.com/7065401/52071924-c003ad80-2562-11e9-8297-1c6595f8a7ff.png)\n",
        "\n",
        "### Create a 3\\*3\\*3 numpy matrix, filled with random float values."
      ]
    },
    {
      "cell_type": "code",
      "execution_count": 54,
      "metadata": {
        "colab": {
          "base_uri": "https://localhost:8080/"
        },
        "id": "s6MlFoEmDHgq",
        "outputId": "20a5a6a1-74c0-444d-cd61-50759567b96f"
      },
      "outputs": [
        {
          "output_type": "execute_result",
          "data": {
            "text/plain": [
              "array([[[0.54227662, 0.91920869, 0.78971509],\n",
              "        [0.67984643, 0.19923828, 0.70625625],\n",
              "        [0.34249611, 0.13467652, 0.41424046]],\n",
              "\n",
              "       [[0.48902807, 0.84833022, 0.87728683],\n",
              "        [0.72423932, 0.44592413, 0.19648364],\n",
              "        [0.46323445, 0.25394872, 0.64353675]],\n",
              "\n",
              "       [[0.9925021 , 0.84290921, 0.68306297],\n",
              "        [0.81983814, 0.58586472, 0.43115222],\n",
              "        [0.26190922, 0.46890172, 0.4095219 ]]])"
            ]
          },
          "metadata": {},
          "execution_count": 54
        }
      ],
      "source": [
        "np.random.random((3,3,3))"
      ]
    },
    {
      "cell_type": "code",
      "execution_count": 48,
      "metadata": {
        "cell_type": "solution",
        "colab": {
          "base_uri": "https://localhost:8080/"
        },
        "id": "aLun9mmADHgq",
        "outputId": "588b5869-02ac-45d9-d219-827e3cd1e53a"
      },
      "outputs": [
        {
          "output_type": "execute_result",
          "data": {
            "text/plain": [
              "array([[[ 0.35294275, -0.53862667,  0.02466906],\n",
              "        [ 0.56468369,  0.33798976,  0.36252151],\n",
              "        [-0.11754006, -1.00234872, -0.35269796]],\n",
              "\n",
              "       [[-0.25345454, -0.55539207,  0.35373306],\n",
              "        [-0.35431591, -0.48201376, -0.60470603],\n",
              "        [-0.52159398, -0.07631259,  1.17915974]],\n",
              "\n",
              "       [[-1.27827528, -0.54672653, -0.08924774],\n",
              "        [ 0.75427663, -0.88070646, -0.70487655],\n",
              "        [ 0.99962853, -2.22547327,  0.90869675]]])"
            ]
          },
          "metadata": {},
          "execution_count": 48
        }
      ],
      "source": [
        "#np.random.random((3,3,3))\n",
        "np.random.randn(3,3,3) # 0 to 1 floats"
      ]
    },
    {
      "cell_type": "markdown",
      "metadata": {
        "id": "75PybBNyDHgq"
      },
      "source": [
        "![green-divider](https://user-images.githubusercontent.com/7065401/52071924-c003ad80-2562-11e9-8297-1c6595f8a7ff.png)\n",
        "\n",
        "### Given the X python list convert it to an Y numpy array"
      ]
    },
    {
      "cell_type": "code",
      "execution_count": 55,
      "metadata": {
        "colab": {
          "base_uri": "https://localhost:8080/"
        },
        "id": "mDAU86PtDHgq",
        "outputId": "51ad66db-c9c3-4f51-cbbc-c2f17a552292"
      },
      "outputs": [
        {
          "output_type": "stream",
          "name": "stdout",
          "text": [
            "[1, 2, 3] <class 'list'>\n",
            "[1 2 3] <class 'numpy.ndarray'>\n"
          ]
        }
      ],
      "source": [
        "X = [1, 2, 3]\n",
        "print(X, type(X))\n",
        "\n",
        "Y = np.array(X)\n",
        "print(Y, type(Y)) # different type\n"
      ]
    },
    {
      "cell_type": "code",
      "execution_count": null,
      "metadata": {
        "cell_type": "solution",
        "id": "uygIh8PgDHgq"
      },
      "outputs": [],
      "source": [
        "X = [1, 2, 3]\n",
        "print(X, type(X))\n",
        "\n",
        "Y = np.array(X)\n",
        "print(Y, type(Y)) # different type"
      ]
    },
    {
      "cell_type": "markdown",
      "metadata": {
        "id": "F_K8Xv5CDHgq"
      },
      "source": [
        "![green-divider](https://user-images.githubusercontent.com/7065401/52071924-c003ad80-2562-11e9-8297-1c6595f8a7ff.png)\n",
        "\n",
        "### Given the X numpy array, make a copy and store it on Y."
      ]
    },
    {
      "cell_type": "code",
      "execution_count": 60,
      "metadata": {
        "colab": {
          "base_uri": "https://localhost:8080/"
        },
        "id": "Ss5sPmHrDHgq",
        "outputId": "f5dccc28-78f5-4f38-9573-f4b96a539bbc"
      },
      "outputs": [
        {
          "output_type": "stream",
          "name": "stdout",
          "text": [
            "[1 2 3] 133486856147216\n",
            "[1 2 3] 133486856147600\n"
          ]
        }
      ],
      "source": [
        "X = np.array([1,2,3], dtype=int)\n",
        "print(X, id(X))\n",
        "Y = np.copy(X)\n",
        "print(Y, id(Y))\n"
      ]
    },
    {
      "cell_type": "code",
      "execution_count": 61,
      "metadata": {
        "cell_type": "solution",
        "colab": {
          "base_uri": "https://localhost:8080/"
        },
        "id": "Pt09-nA0DHgq",
        "outputId": "9bcd02a6-f730-4e90-f4bb-ecacc21f480d"
      },
      "outputs": [
        {
          "output_type": "stream",
          "name": "stdout",
          "text": [
            "[5 2 3] 133486855566704\n",
            "[5 2 3] 133486856147696\n"
          ]
        }
      ],
      "source": [
        "X = np.array([5,2,3], dtype=int)\n",
        "print(X, id(X))\n",
        "\n",
        "Y = np.copy(X)\n",
        "print(Y, id(Y)) # different id"
      ]
    },
    {
      "cell_type": "markdown",
      "metadata": {
        "id": "Fs75a2SwDHgr"
      },
      "source": [
        "![green-divider](https://user-images.githubusercontent.com/7065401/52071924-c003ad80-2562-11e9-8297-1c6595f8a7ff.png)\n",
        "\n",
        "### Create a numpy array with numbers from 1 to 10"
      ]
    },
    {
      "cell_type": "code",
      "execution_count": 75,
      "metadata": {
        "colab": {
          "base_uri": "https://localhost:8080/"
        },
        "id": "DURs0HSQDHgr",
        "outputId": "ee0a1428-7d02-432e-c567-2bf5d2d8ad33"
      },
      "outputs": [
        {
          "output_type": "execute_result",
          "data": {
            "text/plain": [
              "array([[0.380503  , 6.03341254, 7.25162103, 3.97591738, 0.02703772,\n",
              "        4.0839254 , 1.06045301, 1.0479444 , 8.98454023, 4.75566106],\n",
              "       [2.93435763, 4.9183793 , 4.44028746, 7.98757928, 9.32372833,\n",
              "        0.39312886, 5.45519203, 3.74578566, 7.57931339, 4.15684351],\n",
              "       [7.54913782, 9.7022524 , 7.41583161, 0.21722969, 7.42196712,\n",
              "        3.64788276, 1.58852505, 7.76944136, 1.7132421 , 4.7671529 ],\n",
              "       [1.93574411, 6.89098595, 8.65429794, 7.56687235, 9.63387261,\n",
              "        7.57685323, 6.87825604, 6.71018273, 7.63448034, 2.80619272],\n",
              "       [8.07165236, 6.57486046, 6.34818414, 6.74226133, 8.15928421,\n",
              "        0.45913722, 6.79454998, 1.38873493, 4.6850982 , 4.01557899],\n",
              "       [2.14706797, 9.49249538, 9.98924104, 3.46929975, 6.36522707,\n",
              "        4.69850217, 2.74699759, 6.04588536, 2.39229432, 5.41306357],\n",
              "       [7.05636008, 1.98268901, 1.549981  , 5.96494226, 2.96354433,\n",
              "        1.67245626, 4.1672611 , 4.66830316, 2.20255065, 4.70770545],\n",
              "       [9.79684662, 7.01366401, 4.42524763, 6.41971463, 8.35139756,\n",
              "        7.76316732, 7.03919261, 3.51093713, 2.18343159, 2.67739015],\n",
              "       [6.57985722, 3.34594154, 7.85403627, 5.15668559, 3.41686277,\n",
              "        8.47837188, 3.14209898, 9.43034807, 0.72369363, 8.96369493],\n",
              "       [7.400902  , 1.71574071, 1.70763296, 0.55758382, 5.18342589,\n",
              "        8.25010967, 7.59695371, 7.46906284, 7.46894143, 0.05479595],\n",
              "       [9.21061144, 0.56438951, 0.3645614 , 1.27674889, 0.51083437,\n",
              "        8.44513225, 8.09399301, 1.70840021, 0.66230833, 6.56229179]])"
            ]
          },
          "metadata": {},
          "execution_count": 75
        }
      ],
      "source": [
        "np.random.uniform(0, 10, size=(11, 10))"
      ]
    },
    {
      "cell_type": "code",
      "execution_count": 70,
      "metadata": {
        "cell_type": "solution",
        "colab": {
          "base_uri": "https://localhost:8080/"
        },
        "id": "4Sa_fzOYDHgr",
        "outputId": "511d2f83-a8e2-4d14-eeb7-99290e516373"
      },
      "outputs": [
        {
          "output_type": "execute_result",
          "data": {
            "text/plain": [
              "array(['1.0', '2.0', '3.0', '4.0', '5.0', '6.0', '7.0', '8.0', '9.0',\n",
              "       '10.0'], dtype='<U32')"
            ]
          },
          "metadata": {},
          "execution_count": 70
        }
      ],
      "source": [
        "np.arange(1, 11, dtype=float).astype(str)"
      ]
    },
    {
      "cell_type": "markdown",
      "metadata": {
        "id": "OzOoKupFDHgr"
      },
      "source": [
        "![green-divider](https://user-images.githubusercontent.com/7065401/52071924-c003ad80-2562-11e9-8297-1c6595f8a7ff.png)\n",
        "\n",
        "### Create a numpy array with the odd numbers between 1 to 10"
      ]
    },
    {
      "cell_type": "code",
      "execution_count": null,
      "metadata": {
        "id": "qlbhEriIDHgr"
      },
      "outputs": [],
      "source": [
        "# your code goes here\n"
      ]
    },
    {
      "cell_type": "code",
      "execution_count": null,
      "metadata": {
        "cell_type": "solution",
        "id": "Wrt6zezIDHgr"
      },
      "outputs": [],
      "source": [
        "np.arange(1, 11, 2)"
      ]
    },
    {
      "cell_type": "markdown",
      "metadata": {
        "id": "Z6zdwmItDHgr"
      },
      "source": [
        "![green-divider](https://user-images.githubusercontent.com/7065401/52071924-c003ad80-2562-11e9-8297-1c6595f8a7ff.png)\n",
        "\n",
        "### Create a numpy array with numbers from 1 to 10, in descending order."
      ]
    },
    {
      "cell_type": "code",
      "execution_count": 81,
      "metadata": {
        "colab": {
          "base_uri": "https://localhost:8080/"
        },
        "id": "5PHXmnh6DHgr",
        "outputId": "c01f7ecc-006c-4849-bf9d-d10879039847"
      },
      "outputs": [
        {
          "output_type": "execute_result",
          "data": {
            "text/plain": [
              "array([10,  9,  8,  7,  6,  5,  4,  3,  2,  1])"
            ]
          },
          "metadata": {},
          "execution_count": 81
        }
      ],
      "source": [
        "np.arange(1, 11)[::-1]\n"
      ]
    },
    {
      "cell_type": "code",
      "execution_count": 83,
      "metadata": {
        "cell_type": "solution",
        "colab": {
          "base_uri": "https://localhost:8080/"
        },
        "id": "bzAsyI6xDHgr",
        "outputId": "19026b1f-c94c-4a0f-dbce-25ad25ccfd6d"
      },
      "outputs": [
        {
          "output_type": "execute_result",
          "data": {
            "text/plain": [
              "array([10,  9,  8,  7,  6,  5,  4,  3,  2,  1])"
            ]
          },
          "metadata": {},
          "execution_count": 83
        }
      ],
      "source": [
        "np.arange(1, 11)[::-1]"
      ]
    },
    {
      "cell_type": "markdown",
      "metadata": {
        "id": "-gR9BVXxDHgr"
      },
      "source": [
        "![green-divider](https://user-images.githubusercontent.com/7065401/52071924-c003ad80-2562-11e9-8297-1c6595f8a7ff.png)\n",
        "\n",
        "### Create a 3*3 numpy matrix, filled with values ranging from 0 to 8"
      ]
    },
    {
      "cell_type": "code",
      "source": [],
      "metadata": {
        "id": "k0id1Z3yfdh0"
      },
      "execution_count": null,
      "outputs": []
    },
    {
      "cell_type": "markdown",
      "source": [],
      "metadata": {
        "id": "kbi_NIE2X-nk"
      }
    },
    {
      "cell_type": "code",
      "execution_count": 92,
      "metadata": {
        "colab": {
          "base_uri": "https://localhost:8080/"
        },
        "id": "X8SHbBy3DHgr",
        "outputId": "caf77bb1-0f36-48a3-81a2-c3dc3877ab31"
      },
      "outputs": [
        {
          "output_type": "execute_result",
          "data": {
            "text/plain": [
              "array([[6, 7, 8],\n",
              "       [3, 4, 5],\n",
              "       [0, 1, 2]])"
            ]
          },
          "metadata": {},
          "execution_count": 92
        }
      ],
      "source": [
        "np.arange(9).reshape(3,3)[::-1]"
      ]
    },
    {
      "cell_type": "markdown",
      "source": [],
      "metadata": {
        "id": "l65hoTgEX-Ul"
      }
    },
    {
      "cell_type": "code",
      "execution_count": null,
      "metadata": {
        "cell_type": "solution",
        "id": "LkHl2bdGDHgr"
      },
      "outputs": [],
      "source": [
        "np.arange(9).reshape(3,3)"
      ]
    },
    {
      "cell_type": "markdown",
      "metadata": {
        "id": "P3fm7Vm5DHgr"
      },
      "source": [
        "![green-divider](https://user-images.githubusercontent.com/7065401/52071924-c003ad80-2562-11e9-8297-1c6595f8a7ff.png)\n",
        "\n",
        "### Show the memory size of the given Z numpy matrix"
      ]
    },
    {
      "cell_type": "code",
      "execution_count": 102,
      "metadata": {
        "colab": {
          "base_uri": "https://localhost:8080/"
        },
        "id": "HjojgCUEDHgs",
        "outputId": "e3211303-d9a8-4268-90b0-bdc50e849ed7"
      },
      "outputs": [
        {
          "output_type": "stream",
          "name": "stdout",
          "text": [
            "8000000000000 bytes\n"
          ]
        }
      ],
      "source": [
        "import numpy as np\n",
        "Z = np.zeros((1000000000,1000))\n",
        "\n",
        "print(\"%d bytes\" % (Z.size * Z.itemsize))"
      ]
    },
    {
      "cell_type": "code",
      "execution_count": null,
      "metadata": {
        "cell_type": "solution",
        "scrolled": true,
        "id": "QYUvJwI7DHgs"
      },
      "outputs": [],
      "source": [
        "Z = np.zeros((10,10))\n",
        "\n",
        "print(\"%d bytes\" % (Z.size * Z.itemsize))"
      ]
    },
    {
      "cell_type": "markdown",
      "metadata": {
        "id": "1zzlHY_UDHgs"
      },
      "source": [
        "![purple-divider](https://user-images.githubusercontent.com/7065401/52071927-c1cd7100-2562-11e9-908a-dde91ba14e59.png)\n",
        "\n",
        "## Array indexation\n"
      ]
    },
    {
      "cell_type": "markdown",
      "metadata": {
        "id": "ColKrX-4DHgs"
      },
      "source": [
        "### Given the X numpy array, show it's first element"
      ]
    },
    {
      "cell_type": "code",
      "execution_count": 114,
      "metadata": {
        "colab": {
          "base_uri": "https://localhost:8080/"
        },
        "id": "oKEY_q_KDHgs",
        "outputId": "97a538fa-281b-4fe5-d0b2-9228b3db270f"
      },
      "outputs": [
        {
          "output_type": "stream",
          "name": "stdout",
          "text": [
            "[[9 5 1 2 0 8 9 9 3 3]\n",
            " [6 4 6 7 5 1 7 3 3 2]\n",
            " [7 8 8 2 8 8 4 1 2 7]\n",
            " [8 1 5 9 3 7 8 9 7 7]\n",
            " [3 2 9 3 6 7 2 2 9 2]\n",
            " [9 7 8 5 2 7 6 0 7 5]\n",
            " [9 3 8 7 6 3 3 1 8 7]\n",
            " [8 3 1 5 7 7 5 1 6 5]\n",
            " [8 0 0 7 9 8 9 3 0 9]\n",
            " [3 7 6 1 6 3 3 2 5 5]]\n",
            "6\n"
          ]
        }
      ],
      "source": [
        "X = np.random.randint(0, 10, size=(10,10))\n",
        "X[4, 4]\n",
        "print(X)\n",
        "print(X[4, 4])"
      ]
    },
    {
      "cell_type": "code",
      "execution_count": null,
      "metadata": {
        "cell_type": "solution",
        "id": "9AbYOLSWDHgs"
      },
      "outputs": [],
      "source": [
        "X = np.array(['A','B','C','D','E'])\n",
        "\n",
        "X[0]"
      ]
    },
    {
      "cell_type": "markdown",
      "metadata": {
        "id": "aJ75_nGaDHgs"
      },
      "source": [
        "![green-divider](https://user-images.githubusercontent.com/7065401/52071924-c003ad80-2562-11e9-8297-1c6595f8a7ff.png)\n",
        "\n",
        "### Given the X numpy array, show it's last element"
      ]
    },
    {
      "cell_type": "code",
      "execution_count": 115,
      "metadata": {
        "colab": {
          "base_uri": "https://localhost:8080/"
        },
        "id": "AP9DlOUoDHgs",
        "outputId": "bf4a504c-4d8d-46a7-be9c-8d3ed072e203"
      },
      "outputs": [
        {
          "output_type": "stream",
          "name": "stdout",
          "text": [
            "E\n"
          ]
        }
      ],
      "source": [
        "X = np.array(['A', 'B', 'C', 'D', 'E'])\n",
        "print(X[-1])\n"
      ]
    },
    {
      "cell_type": "code",
      "execution_count": 116,
      "metadata": {
        "cell_type": "solution",
        "colab": {
          "base_uri": "https://localhost:8080/",
          "height": 34
        },
        "id": "M46Csch-DHgs",
        "outputId": "306300e4-a8ca-45d0-a861-cd979cec2646"
      },
      "outputs": [
        {
          "output_type": "execute_result",
          "data": {
            "text/plain": [
              "np.str_('E')"
            ],
            "application/vnd.google.colaboratory.intrinsic+json": {
              "type": "string"
            }
          },
          "metadata": {},
          "execution_count": 116
        }
      ],
      "source": [
        "X = np.array(['A','B','C','D','E'])\n",
        "\n",
        "#X[len(X)-1]\n",
        "X[-1]"
      ]
    },
    {
      "cell_type": "markdown",
      "metadata": {
        "id": "Ugxjal8qDHgs"
      },
      "source": [
        "![green-divider](https://user-images.githubusercontent.com/7065401/52071924-c003ad80-2562-11e9-8297-1c6595f8a7ff.png)\n",
        "\n",
        "### Given the X numpy array, show it's first three elements"
      ]
    },
    {
      "cell_type": "code",
      "execution_count": 117,
      "metadata": {
        "colab": {
          "base_uri": "https://localhost:8080/"
        },
        "id": "42hxFjHoDHgs",
        "outputId": "e8afa4eb-de33-4e70-f95a-6d6681bfd456"
      },
      "outputs": [
        {
          "output_type": "stream",
          "name": "stdout",
          "text": [
            "['A' 'B' 'C']\n"
          ]
        }
      ],
      "source": [
        "X = np.array(['A','B','C','D','E'])\n",
        "print(X[0:3])\n"
      ]
    },
    {
      "cell_type": "code",
      "execution_count": 118,
      "metadata": {
        "cell_type": "solution",
        "colab": {
          "base_uri": "https://localhost:8080/"
        },
        "id": "8uHIO391DHgs",
        "outputId": "9fc2a6bc-d5f9-4231-fe42-c9ac3a3ba6be"
      },
      "outputs": [
        {
          "output_type": "execute_result",
          "data": {
            "text/plain": [
              "array(['A', 'B', 'C'], dtype='<U1')"
            ]
          },
          "metadata": {},
          "execution_count": 118
        }
      ],
      "source": [
        "X = np.array(['A','B','C','D','E'])\n",
        "\n",
        "X[0:3] # remember! elements start at zero index"
      ]
    },
    {
      "cell_type": "markdown",
      "metadata": {
        "id": "ntQbVKSIDHgt"
      },
      "source": [
        "![green-divider](https://user-images.githubusercontent.com/7065401/52071924-c003ad80-2562-11e9-8297-1c6595f8a7ff.png)\n",
        "\n",
        "### Given the X numpy array, show all middle elements"
      ]
    },
    {
      "cell_type": "code",
      "execution_count": 119,
      "metadata": {
        "colab": {
          "base_uri": "https://localhost:8080/"
        },
        "id": "a5E-52rHDHgt",
        "outputId": "240e861c-fff9-4ad8-89a3-73d6ce79f155"
      },
      "outputs": [
        {
          "output_type": "execute_result",
          "data": {
            "text/plain": [
              "array(['B', 'C', 'D'], dtype='<U1')"
            ]
          },
          "metadata": {},
          "execution_count": 119
        }
      ],
      "source": [
        "X = np.array(['A','B','C','D','E'])\n",
        "X[1:-1]\n"
      ]
    },
    {
      "cell_type": "code",
      "execution_count": 120,
      "metadata": {
        "cell_type": "solution",
        "colab": {
          "base_uri": "https://localhost:8080/"
        },
        "id": "LYBcrxWgDHgt",
        "outputId": "29b66d76-a2a3-4f6f-a84b-b0a6e17d66a2"
      },
      "outputs": [
        {
          "output_type": "execute_result",
          "data": {
            "text/plain": [
              "array(['B', 'C', 'D'], dtype='<U1')"
            ]
          },
          "metadata": {},
          "execution_count": 120
        }
      ],
      "source": [
        "X = np.array(['A','B','C','D','E'])\n",
        "\n",
        "X[1:-1]"
      ]
    },
    {
      "cell_type": "markdown",
      "metadata": {
        "id": "D0uc290aDHgt"
      },
      "source": [
        "![green-divider](https://user-images.githubusercontent.com/7065401/52071924-c003ad80-2562-11e9-8297-1c6595f8a7ff.png)\n",
        "\n",
        "### Given the X numpy array, show the elements in reverse position"
      ]
    },
    {
      "cell_type": "code",
      "execution_count": 121,
      "metadata": {
        "colab": {
          "base_uri": "https://localhost:8080/"
        },
        "id": "fyb_BCOpDHgt",
        "outputId": "c8cc262a-4a0f-4970-ec78-a8741b64c8be"
      },
      "outputs": [
        {
          "output_type": "execute_result",
          "data": {
            "text/plain": [
              "array(['E', 'D', 'C', 'B', 'A'], dtype='<U1')"
            ]
          },
          "metadata": {},
          "execution_count": 121
        }
      ],
      "source": [
        "X = np.array(['A','B','C','D','E'])\n",
        "X[::-1]\n"
      ]
    },
    {
      "cell_type": "code",
      "execution_count": null,
      "metadata": {
        "cell_type": "solution",
        "id": "Mt6B4EU2DHgt"
      },
      "outputs": [],
      "source": [
        "X = np.array(['A','B','C','D','E'])\n",
        "\n",
        "X[::-1]"
      ]
    },
    {
      "cell_type": "markdown",
      "metadata": {
        "id": "y-eHPFFvDHgt"
      },
      "source": [
        "![green-divider](https://user-images.githubusercontent.com/7065401/52071924-c003ad80-2562-11e9-8297-1c6595f8a7ff.png)\n",
        "\n",
        "### Given the X numpy array, show the elements in an odd position"
      ]
    },
    {
      "cell_type": "code",
      "execution_count": 122,
      "metadata": {
        "colab": {
          "base_uri": "https://localhost:8080/"
        },
        "id": "Z6w-T3EjDHgt",
        "outputId": "d59a409e-2ce3-4c42-d524-8a7657958d2b"
      },
      "outputs": [
        {
          "output_type": "execute_result",
          "data": {
            "text/plain": [
              "array(['A', 'C', 'E'], dtype='<U1')"
            ]
          },
          "metadata": {},
          "execution_count": 122
        }
      ],
      "source": [
        "X = np.array(['A','B','C','D','E'])\n",
        "X[::2]\n"
      ]
    },
    {
      "cell_type": "code",
      "execution_count": null,
      "metadata": {
        "cell_type": "solution",
        "id": "vkKnxdh5DHgt"
      },
      "outputs": [],
      "source": [
        "X = np.array(['A','B','C','D','E'])\n",
        "\n",
        "#X[[0, 2, -1]]\n",
        "X[::2]"
      ]
    },
    {
      "cell_type": "markdown",
      "metadata": {
        "id": "FqqDo6ofDHgt"
      },
      "source": [
        "![green-divider](https://user-images.githubusercontent.com/7065401/52071924-c003ad80-2562-11e9-8297-1c6595f8a7ff.png)\n",
        "\n",
        "### Given the X numpy matrix, show the first row elements"
      ]
    },
    {
      "cell_type": "code",
      "execution_count": 124,
      "metadata": {
        "colab": {
          "base_uri": "https://localhost:8080/"
        },
        "id": "SbkK71VyDHgt",
        "outputId": "4aeef170-7730-4cea-d482-0a3d9c42d2ea"
      },
      "outputs": [
        {
          "output_type": "execute_result",
          "data": {
            "text/plain": [
              "array([1, 2, 3, 4])"
            ]
          },
          "metadata": {},
          "execution_count": 124
        }
      ],
      "source": [
        "X = np.array([\n",
        "    [1,   2,  3,  4],\n",
        "    [5,   6,  7,  8],\n",
        "    [9,  10, 11, 12],\n",
        "    [13, 14, 15, 16]\n",
        "])\n",
        "\n",
        "X[0]\n"
      ]
    },
    {
      "cell_type": "code",
      "execution_count": null,
      "metadata": {
        "cell_type": "solution",
        "id": "K3eWKQG9DHgt"
      },
      "outputs": [],
      "source": [
        "X = np.array([\n",
        "    [1,   2,  3,  4],\n",
        "    [5,   6,  7,  8],\n",
        "    [9,  10, 11, 12],\n",
        "    [13, 14, 15, 16]\n",
        "])\n",
        "\n",
        "X[0]"
      ]
    },
    {
      "cell_type": "markdown",
      "metadata": {
        "id": "kq_ReKvpDHgt"
      },
      "source": [
        "![green-divider](https://user-images.githubusercontent.com/7065401/52071924-c003ad80-2562-11e9-8297-1c6595f8a7ff.png)\n",
        "\n",
        "### Given the X numpy matrix, show the last row elements"
      ]
    },
    {
      "cell_type": "code",
      "execution_count": 126,
      "metadata": {
        "colab": {
          "base_uri": "https://localhost:8080/"
        },
        "id": "rB-e0kowDHgt",
        "outputId": "5b45bf5a-6144-452b-97b9-00af3e03374b"
      },
      "outputs": [
        {
          "output_type": "execute_result",
          "data": {
            "text/plain": [
              "array([13, 14, 15, 16])"
            ]
          },
          "metadata": {},
          "execution_count": 126
        }
      ],
      "source": [
        "X = np.array([\n",
        "    [1,   2,  3,  4],\n",
        "    [5,   6,  7,  8],\n",
        "    [9,  10, 11, 12],\n",
        "    [13, 14, 15, 16]\n",
        "])\n",
        "\n",
        "X[-1]\n"
      ]
    },
    {
      "cell_type": "code",
      "execution_count": null,
      "metadata": {
        "cell_type": "solution",
        "id": "XhUux2KaDHgu"
      },
      "outputs": [],
      "source": [
        "X = np.array([\n",
        "    [1,   2,  3,  4],\n",
        "    [5,   6,  7,  8],\n",
        "    [9,  10, 11, 12],\n",
        "    [13, 14, 15, 16]\n",
        "])\n",
        "\n",
        "X[-1]"
      ]
    },
    {
      "cell_type": "markdown",
      "metadata": {
        "id": "eYfFGWecDHgu"
      },
      "source": [
        "![green-divider](https://user-images.githubusercontent.com/7065401/52071924-c003ad80-2562-11e9-8297-1c6595f8a7ff.png)\n",
        "\n",
        "### Given the X numpy matrix, show the first element on first row"
      ]
    },
    {
      "cell_type": "code",
      "execution_count": null,
      "metadata": {
        "id": "zvfg7ABzDHgu"
      },
      "outputs": [],
      "source": [
        "# your code goes here\n"
      ]
    },
    {
      "cell_type": "code",
      "execution_count": null,
      "metadata": {
        "cell_type": "solution",
        "id": "F2IQwRbrDHgu"
      },
      "outputs": [],
      "source": [
        "X = np.array([\n",
        "    [1,   2,  3,  4],\n",
        "    [5,   6,  7,  8],\n",
        "    [9,  10, 11, 12],\n",
        "    [13, 14, 15, 16]\n",
        "])\n",
        "\n",
        "#X[0][0]\n",
        "X[0, 0]"
      ]
    },
    {
      "cell_type": "markdown",
      "metadata": {
        "id": "u36vo0N6DHgu"
      },
      "source": [
        "![green-divider](https://user-images.githubusercontent.com/7065401/52071924-c003ad80-2562-11e9-8297-1c6595f8a7ff.png)\n",
        "\n",
        "### Given the X numpy matrix, show the last element on last row"
      ]
    },
    {
      "cell_type": "code",
      "execution_count": 127,
      "metadata": {
        "colab": {
          "base_uri": "https://localhost:8080/"
        },
        "id": "ufrynHPCDHgu",
        "outputId": "8f50402e-8950-4baa-eaee-a72ddd1a5b7d"
      },
      "outputs": [
        {
          "output_type": "execute_result",
          "data": {
            "text/plain": [
              "np.int64(16)"
            ]
          },
          "metadata": {},
          "execution_count": 127
        }
      ],
      "source": [
        "X = np.array([\n",
        "    [1,   2,  3,  4],\n",
        "    [5,   6,  7,  8],\n",
        "    [9,  10, 11, 12],\n",
        "    [13, 14, 15, 16]\n",
        "])\n",
        "\n",
        "X[-1, -1]\n"
      ]
    },
    {
      "cell_type": "code",
      "execution_count": null,
      "metadata": {
        "cell_type": "solution",
        "id": "XHNtXCF6DHgu"
      },
      "outputs": [],
      "source": [
        "X = np.array([\n",
        "    [1,   2,  3,  4],\n",
        "    [5,   6,  7,  8],\n",
        "    [9,  10, 11, 12],\n",
        "    [13, 14, 15, 16]\n",
        "])\n",
        "\n",
        "#X[-1][-1]\n",
        "X[-1, -1]"
      ]
    },
    {
      "cell_type": "markdown",
      "metadata": {
        "id": "JMdy3GTwDHgu"
      },
      "source": [
        "![green-divider](https://user-images.githubusercontent.com/7065401/52071924-c003ad80-2562-11e9-8297-1c6595f8a7ff.png)\n",
        "\n",
        "### Given the X numpy matrix, show the middle row elements"
      ]
    },
    {
      "cell_type": "code",
      "execution_count": 128,
      "metadata": {
        "colab": {
          "base_uri": "https://localhost:8080/"
        },
        "id": "SOMfKCldDHgu",
        "outputId": "026181f2-66c3-48b0-df84-31ff3ff05976"
      },
      "outputs": [
        {
          "output_type": "execute_result",
          "data": {
            "text/plain": [
              "array([[ 6,  7],\n",
              "       [10, 11]])"
            ]
          },
          "metadata": {},
          "execution_count": 128
        }
      ],
      "source": [
        "X = np.array([\n",
        "    [1,   2,  3,  4],\n",
        "    [5,   6,  7,  8],\n",
        "    [9,  10, 11, 12],\n",
        "    [13, 14, 15, 16]\n",
        "])\n",
        "\n",
        "X[1:-1, 1:-1]"
      ]
    },
    {
      "cell_type": "code",
      "execution_count": 129,
      "metadata": {
        "cell_type": "solution",
        "colab": {
          "base_uri": "https://localhost:8080/"
        },
        "id": "zDggQ66_DHgu",
        "outputId": "b4a311c0-00fb-42ed-9269-816c44ebf02e"
      },
      "outputs": [
        {
          "output_type": "execute_result",
          "data": {
            "text/plain": [
              "array([[ 6,  7],\n",
              "       [10, 11]])"
            ]
          },
          "metadata": {},
          "execution_count": 129
        }
      ],
      "source": [
        "X = np.array([\n",
        "    [1,   2,  3,  4],\n",
        "    [5,   6,  7,  8],\n",
        "    [9,  10, 11, 12],\n",
        "    [13, 14, 15, 16]\n",
        "])\n",
        "\n",
        "#X[1:-1][1:-1] wrong!\n",
        "X[1:-1, 1:-1]"
      ]
    },
    {
      "cell_type": "markdown",
      "metadata": {
        "id": "GH8WR1ZQDHgu"
      },
      "source": [
        "![green-divider](https://user-images.githubusercontent.com/7065401/52071924-c003ad80-2562-11e9-8297-1c6595f8a7ff.png)\n",
        "\n",
        "### Given the X numpy matrix, show the first two elements on the first two rows"
      ]
    },
    {
      "cell_type": "code",
      "execution_count": 134,
      "metadata": {
        "colab": {
          "base_uri": "https://localhost:8080/"
        },
        "id": "IN-3oIOpDHgu",
        "outputId": "f9ad16a0-7c19-478e-90dc-d8836e131b52"
      },
      "outputs": [
        {
          "output_type": "execute_result",
          "data": {
            "text/plain": [
              "array([[1, 2],\n",
              "       [5, 6]])"
            ]
          },
          "metadata": {},
          "execution_count": 134
        }
      ],
      "source": [
        "X = np.array([\n",
        "    [1,   2,  3,  4],\n",
        "    [5,   6,  7,  8],\n",
        "    [9,  10, 11, 12],\n",
        "    [13, 14, 15, 16]\n",
        "])\n",
        "\n",
        "X[:2, :2]"
      ]
    },
    {
      "cell_type": "code",
      "execution_count": null,
      "metadata": {
        "cell_type": "solution",
        "id": "HeVkdscoDHgu"
      },
      "outputs": [],
      "source": [
        "X = np.array([\n",
        "    [1,   2,  3,  4],\n",
        "    [5,   6,  7,  8],\n",
        "    [9,  10, 11, 12],\n",
        "    [13, 14, 15, 16]\n",
        "])\n",
        "\n",
        "#X[:2][:2] wrong!\n",
        "#X[0:2, 0:2]\n",
        "X[:2, :2]"
      ]
    },
    {
      "cell_type": "markdown",
      "metadata": {
        "id": "KcXk9iDLDHgu"
      },
      "source": [
        "![green-divider](https://user-images.githubusercontent.com/7065401/52071924-c003ad80-2562-11e9-8297-1c6595f8a7ff.png)\n",
        "\n",
        "### Given the X numpy matrix, show the last two elements on the last two rows"
      ]
    },
    {
      "cell_type": "code",
      "execution_count": 135,
      "metadata": {
        "colab": {
          "base_uri": "https://localhost:8080/"
        },
        "id": "C6o75XkzDHgu",
        "outputId": "22bcfe46-ecfb-474a-c003-9e2a57e56a35"
      },
      "outputs": [
        {
          "output_type": "execute_result",
          "data": {
            "text/plain": [
              "array([[11, 12],\n",
              "       [15, 16]])"
            ]
          },
          "metadata": {},
          "execution_count": 135
        }
      ],
      "source": [
        "X = np.array([\n",
        "    [1,   2,  3,  4],\n",
        "    [5,   6,  7,  8],\n",
        "    [9,  10, 11, 12],\n",
        "    [13, 14, 15, 16]\n",
        "])\n",
        "\n",
        "X[2:, 2:]"
      ]
    },
    {
      "cell_type": "code",
      "execution_count": null,
      "metadata": {
        "cell_type": "solution",
        "id": "0ANgCPboDHgu"
      },
      "outputs": [],
      "source": [
        "X = np.array([\n",
        "    [1,   2,  3,  4],\n",
        "    [5,   6,  7,  8],\n",
        "    [9,  10, 11, 12],\n",
        "    [13, 14, 15, 16]\n",
        "])\n",
        "\n",
        "X[2:, 2:]"
      ]
    },
    {
      "cell_type": "markdown",
      "metadata": {
        "id": "WRAXKF7FDHgv"
      },
      "source": [
        "![purple-divider](https://user-images.githubusercontent.com/7065401/52071927-c1cd7100-2562-11e9-908a-dde91ba14e59.png)\n",
        "\n",
        "## Array manipulation\n"
      ]
    },
    {
      "cell_type": "markdown",
      "metadata": {
        "id": "nUQlIMHHDHgv"
      },
      "source": [
        "### Convert the given integer numpy array to float"
      ]
    },
    {
      "cell_type": "code",
      "execution_count": 138,
      "metadata": {
        "colab": {
          "base_uri": "https://localhost:8080/"
        },
        "id": "gN5xAcDIDHgv",
        "outputId": "676d8fac-7c3d-44e2-d840-090f586897df"
      },
      "outputs": [
        {
          "output_type": "execute_result",
          "data": {
            "text/plain": [
              "array([-5., -3.,  0., 10., 40.])"
            ]
          },
          "metadata": {},
          "execution_count": 138
        }
      ],
      "source": [
        "X = [-5, -3, 0, 10, 40]\n",
        "\n",
        "np.array(X, dtype= float)"
      ]
    },
    {
      "cell_type": "code",
      "execution_count": null,
      "metadata": {
        "cell_type": "solution",
        "id": "sOWYdJW6DHgv"
      },
      "outputs": [],
      "source": [
        "X = [-5, -3, 0, 10, 40]\n",
        "\n",
        "np.array(X, np.float)"
      ]
    },
    {
      "cell_type": "markdown",
      "metadata": {
        "id": "wurr780qDHgv"
      },
      "source": [
        "![green-divider](https://user-images.githubusercontent.com/7065401/52071924-c003ad80-2562-11e9-8297-1c6595f8a7ff.png)\n",
        "\n",
        "### Reverse the given numpy array (first element becomes last)"
      ]
    },
    {
      "cell_type": "code",
      "execution_count": 139,
      "metadata": {
        "colab": {
          "base_uri": "https://localhost:8080/"
        },
        "id": "U6tPK6-YDHgv",
        "outputId": "e294f3b4-779d-4544-8184-1fd699b1fbb3"
      },
      "outputs": [
        {
          "output_type": "execute_result",
          "data": {
            "text/plain": [
              "[40, 10, 0, -3, -5]"
            ]
          },
          "metadata": {},
          "execution_count": 139
        }
      ],
      "source": [
        "X = [-5, -3, 0, 10, 40]\n",
        "\n",
        "X[::-1]"
      ]
    },
    {
      "cell_type": "code",
      "execution_count": null,
      "metadata": {
        "cell_type": "solution",
        "id": "gh4J0AI7DHgv"
      },
      "outputs": [],
      "source": [
        "X = [-5, -3, 0, 10, 40]\n",
        "\n",
        "X[::-1]"
      ]
    },
    {
      "cell_type": "markdown",
      "metadata": {
        "id": "y06yVcldDHgv"
      },
      "source": [
        "![green-divider](https://user-images.githubusercontent.com/7065401/52071924-c003ad80-2562-11e9-8297-1c6595f8a7ff.png)\n",
        "\n",
        "### Order (sort) the given numpy array"
      ]
    },
    {
      "cell_type": "code",
      "execution_count": 141,
      "metadata": {
        "colab": {
          "base_uri": "https://localhost:8080/"
        },
        "id": "cfovQo6YDHgv",
        "outputId": "b456dc4a-1a0e-478a-a22e-10c77b2df44c"
      },
      "outputs": [
        {
          "output_type": "execute_result",
          "data": {
            "text/plain": [
              "[-5, -3, 0, 10, 40]"
            ]
          },
          "metadata": {},
          "execution_count": 141
        }
      ],
      "source": [
        "X = [0, 10, -5, 40, -3]\n",
        "X = sorted(X)\n",
        "X"
      ]
    },
    {
      "cell_type": "code",
      "execution_count": 142,
      "metadata": {
        "cell_type": "solution",
        "colab": {
          "base_uri": "https://localhost:8080/"
        },
        "id": "WSMAOj_PDHgv",
        "outputId": "a1c25204-15c1-49e2-e236-b6f0ce60144a"
      },
      "outputs": [
        {
          "output_type": "execute_result",
          "data": {
            "text/plain": [
              "[-5, -3, 0, 10, 40]"
            ]
          },
          "metadata": {},
          "execution_count": 142
        }
      ],
      "source": [
        "X = [0, 10, -5, 40, -3]\n",
        "\n",
        "X.sort()\n",
        "X"
      ]
    },
    {
      "cell_type": "markdown",
      "metadata": {
        "id": "g346uJEVDHgv"
      },
      "source": [
        "![green-divider](https://user-images.githubusercontent.com/7065401/52071924-c003ad80-2562-11e9-8297-1c6595f8a7ff.png)\n",
        "\n",
        "### Given the X numpy array, set the fifth element equal to 1"
      ]
    },
    {
      "cell_type": "code",
      "execution_count": 147,
      "metadata": {
        "colab": {
          "base_uri": "https://localhost:8080/"
        },
        "id": "Wig6ZdYhDHgv",
        "outputId": "cc305333-21d2-4afb-fdd6-e22a184c55b2"
      },
      "outputs": [
        {
          "output_type": "execute_result",
          "data": {
            "text/plain": [
              "array([0., 0., 0., 0., 1., 0., 0., 0., 0., 0.])"
            ]
          },
          "metadata": {},
          "execution_count": 147
        }
      ],
      "source": [
        "X = np.zeros(10)\n",
        "\n",
        "X[4] = 1\n",
        "X"
      ]
    },
    {
      "cell_type": "code",
      "execution_count": null,
      "metadata": {
        "cell_type": "solution",
        "id": "4MPipt1PDHgv"
      },
      "outputs": [],
      "source": [
        "X = np.zeros(10)\n",
        "\n",
        "X[4] = 1\n",
        "X"
      ]
    },
    {
      "cell_type": "markdown",
      "metadata": {
        "id": "hGZWvMQTDHgv"
      },
      "source": [
        "![green-divider](https://user-images.githubusercontent.com/7065401/52071924-c003ad80-2562-11e9-8297-1c6595f8a7ff.png)\n",
        "\n",
        "### Given the X numpy array, change the 50 with a 40"
      ]
    },
    {
      "cell_type": "code",
      "execution_count": 148,
      "metadata": {
        "colab": {
          "base_uri": "https://localhost:8080/"
        },
        "id": "8lrJVXDEDHgv",
        "outputId": "dab03fd7-5c19-4ba2-d4f4-ec96bbe75fba"
      },
      "outputs": [
        {
          "output_type": "execute_result",
          "data": {
            "text/plain": [
              "array([10, 20, 30, 40])"
            ]
          },
          "metadata": {},
          "execution_count": 148
        }
      ],
      "source": [
        "X = np.array([10, 20, 30, 50])\n",
        "X[3] = 40\n",
        "X"
      ]
    },
    {
      "cell_type": "code",
      "execution_count": null,
      "metadata": {
        "cell_type": "solution",
        "id": "983pheyyDHgv"
      },
      "outputs": [],
      "source": [
        "X = np.array([10, 20, 30, 50])\n",
        "\n",
        "X[3] = 40\n",
        "X"
      ]
    },
    {
      "cell_type": "markdown",
      "metadata": {
        "id": "oYGUdltRDHgv"
      },
      "source": [
        "![green-divider](https://user-images.githubusercontent.com/7065401/52071924-c003ad80-2562-11e9-8297-1c6595f8a7ff.png)\n",
        "\n",
        "### Given the X numpy matrix, change the last row with all 1"
      ]
    },
    {
      "cell_type": "code",
      "execution_count": 150,
      "metadata": {
        "colab": {
          "base_uri": "https://localhost:8080/"
        },
        "id": "lVwkrhXQDHgv",
        "outputId": "311ddb31-df9b-4310-880e-b50635f7d93a"
      },
      "outputs": [
        {
          "output_type": "execute_result",
          "data": {
            "text/plain": [
              "array([[ 1,  2,  3,  4],\n",
              "       [ 5,  6,  7,  8],\n",
              "       [ 9, 10, 11, 12],\n",
              "       [ 1,  1,  1,  1]])"
            ]
          },
          "metadata": {},
          "execution_count": 150
        }
      ],
      "source": [
        "X = np.array([\n",
        "    [1,   2,  3,  4],\n",
        "    [5,   6,  7,  8],\n",
        "    [9,  10, 11, 12],\n",
        "    [13, 14, 15, 16]\n",
        "])\n",
        "\n",
        "X[-1] = np.ones(4)\n",
        "X"
      ]
    },
    {
      "cell_type": "code",
      "execution_count": null,
      "metadata": {
        "cell_type": "solution",
        "id": "XsusBzC4DHgv"
      },
      "outputs": [],
      "source": [
        "X = np.array([\n",
        "    [1,   2,  3,  4],\n",
        "    [5,   6,  7,  8],\n",
        "    [9,  10, 11, 12],\n",
        "    [13, 14, 15, 16]\n",
        "])\n",
        "\n",
        "X[-1] = np.array([1, 1, 1, 1])\n",
        "X"
      ]
    },
    {
      "cell_type": "markdown",
      "metadata": {
        "id": "2m-8wXTyDHgw"
      },
      "source": [
        "![green-divider](https://user-images.githubusercontent.com/7065401/52071924-c003ad80-2562-11e9-8297-1c6595f8a7ff.png)\n",
        "\n",
        "### Given the X numpy matrix, change the last item on the last row with a 0"
      ]
    },
    {
      "cell_type": "code",
      "execution_count": 152,
      "metadata": {
        "colab": {
          "base_uri": "https://localhost:8080/"
        },
        "id": "0XV_-INEDHgw",
        "outputId": "954efb2a-e3e1-4466-9e44-818937fdbc8c"
      },
      "outputs": [
        {
          "output_type": "execute_result",
          "data": {
            "text/plain": [
              "array([[ 1,  2,  3,  4],\n",
              "       [ 5,  6,  7,  8],\n",
              "       [ 9, 10, 11, 12],\n",
              "       [13, 14, 15,  0]])"
            ]
          },
          "metadata": {},
          "execution_count": 152
        }
      ],
      "source": [
        "X = np.array([\n",
        "    [1,   2,  3,  4],\n",
        "    [5,   6,  7,  8],\n",
        "    [9,  10, 11, 12],\n",
        "    [13, 14, 15, 16]\n",
        "])\n",
        "\n",
        "X[-1, -1] = 0\n",
        "X"
      ]
    },
    {
      "cell_type": "code",
      "execution_count": null,
      "metadata": {
        "cell_type": "solution",
        "id": "BZmDV7DSDHgw"
      },
      "outputs": [],
      "source": [
        "X = np.array([\n",
        "    [1,   2,  3,  4],\n",
        "    [5,   6,  7,  8],\n",
        "    [9,  10, 11, 12],\n",
        "    [13, 14, 15, 16]\n",
        "])\n",
        "\n",
        "X[-1, -1] = 0\n",
        "X"
      ]
    },
    {
      "cell_type": "markdown",
      "metadata": {
        "id": "dGyfIVOfDHgw"
      },
      "source": [
        "![green-divider](https://user-images.githubusercontent.com/7065401/52071924-c003ad80-2562-11e9-8297-1c6595f8a7ff.png)\n",
        "\n",
        "### Given the X numpy matrix, add 5 to every element"
      ]
    },
    {
      "cell_type": "code",
      "execution_count": 153,
      "metadata": {
        "colab": {
          "base_uri": "https://localhost:8080/"
        },
        "id": "bQMMuLMYDHgw",
        "outputId": "69843bb5-247a-426e-af92-e993c6825941"
      },
      "outputs": [
        {
          "output_type": "execute_result",
          "data": {
            "text/plain": [
              "array([[ 6,  7,  8,  9],\n",
              "       [10, 11, 12, 13],\n",
              "       [14, 15, 16, 17],\n",
              "       [18, 19, 20, 21]])"
            ]
          },
          "metadata": {},
          "execution_count": 153
        }
      ],
      "source": [
        "X = np.array([\n",
        "    [1,   2,  3,  4],\n",
        "    [5,   6,  7,  8],\n",
        "    [9,  10, 11, 12],\n",
        "    [13, 14, 15, 16]\n",
        "])\n",
        "\n",
        "X+5\n"
      ]
    },
    {
      "cell_type": "code",
      "execution_count": null,
      "metadata": {
        "cell_type": "solution",
        "id": "WRBYXT4RDHgw"
      },
      "outputs": [],
      "source": [
        "X = np.array([\n",
        "    [1,   2,  3,  4],\n",
        "    [5,   6,  7,  8],\n",
        "    [9,  10, 11, 12],\n",
        "    [13, 14, 15, 16]\n",
        "])\n",
        "\n",
        "X + 5"
      ]
    },
    {
      "cell_type": "markdown",
      "metadata": {
        "id": "_KvgspzEDHgw"
      },
      "source": [
        "![purple-divider](https://user-images.githubusercontent.com/7065401/52071927-c1cd7100-2562-11e9-908a-dde91ba14e59.png)\n",
        "\n",
        "## Boolean arrays _(also called masks)_\n"
      ]
    },
    {
      "cell_type": "markdown",
      "metadata": {
        "id": "xMTr5lkhDHgw"
      },
      "source": [
        "### Given the X numpy array, make a mask showing negative elements"
      ]
    },
    {
      "cell_type": "code",
      "execution_count": 155,
      "metadata": {
        "colab": {
          "base_uri": "https://localhost:8080/"
        },
        "id": "ZcXvlYOMDHgw",
        "outputId": "48ca0272-befc-453e-b556-83c07321fb65"
      },
      "outputs": [
        {
          "output_type": "execute_result",
          "data": {
            "text/plain": [
              "array([ True, False,  True,  True, False, False,  True,  True,  True,\n",
              "       False])"
            ]
          },
          "metadata": {},
          "execution_count": 155
        }
      ],
      "source": [
        "X = np.array([-1,2,0,-4,5,6,0,0,-9,10])\n",
        "mask = X <= 0\n",
        "mask"
      ]
    },
    {
      "cell_type": "code",
      "execution_count": 154,
      "metadata": {
        "cell_type": "solution",
        "colab": {
          "base_uri": "https://localhost:8080/"
        },
        "id": "4nFJK1lIDHgw",
        "outputId": "96345a5a-5565-4bad-8935-148193e8c1a1"
      },
      "outputs": [
        {
          "output_type": "execute_result",
          "data": {
            "text/plain": [
              "array([ True, False,  True,  True, False, False,  True,  True,  True,\n",
              "       False])"
            ]
          },
          "metadata": {},
          "execution_count": 154
        }
      ],
      "source": [
        "X = np.array([-1,2,0,-4,5,6,0,0,-9,10])\n",
        "\n",
        "mask = X <= 0\n",
        "mask"
      ]
    },
    {
      "cell_type": "markdown",
      "metadata": {
        "id": "3pSIDm_pDHgw"
      },
      "source": [
        "![green-divider](https://user-images.githubusercontent.com/7065401/52071924-c003ad80-2562-11e9-8297-1c6595f8a7ff.png)\n",
        "\n",
        "### Given the X numpy array, get the negative elements"
      ]
    },
    {
      "cell_type": "code",
      "execution_count": 158,
      "metadata": {
        "colab": {
          "base_uri": "https://localhost:8080/"
        },
        "id": "Ro2W5ycXDHgw",
        "outputId": "098d76ae-c63a-41ac-f7ae-64866cd15329"
      },
      "outputs": [
        {
          "output_type": "execute_result",
          "data": {
            "text/plain": [
              "array([-1, -4, -9])"
            ]
          },
          "metadata": {},
          "execution_count": 158
        }
      ],
      "source": [
        "X = np.array([-1,2,0,-4,5,6,0,0,-9,10])\n",
        "mask = X < 0\n",
        "X[mask]"
      ]
    },
    {
      "cell_type": "code",
      "execution_count": 157,
      "metadata": {
        "cell_type": "solution",
        "colab": {
          "base_uri": "https://localhost:8080/"
        },
        "id": "jazsz8YMDHgw",
        "outputId": "452e7e77-da23-4e80-94b6-b6eaa6938d91"
      },
      "outputs": [
        {
          "output_type": "execute_result",
          "data": {
            "text/plain": [
              "array([-1,  0, -4,  0,  0, -9])"
            ]
          },
          "metadata": {},
          "execution_count": 157
        }
      ],
      "source": [
        "X = np.array([-1, 2, 0, -4, 5, 6, 0, 0, -9, 10])\n",
        "\n",
        "mask = X <= 0\n",
        "X[mask]"
      ]
    },
    {
      "cell_type": "markdown",
      "metadata": {
        "id": "99rYaKKQDHgw"
      },
      "source": [
        "![green-divider](https://user-images.githubusercontent.com/7065401/52071924-c003ad80-2562-11e9-8297-1c6595f8a7ff.png)\n",
        "\n",
        "### Given the X numpy array, get numbers higher than 5"
      ]
    },
    {
      "cell_type": "code",
      "execution_count": 160,
      "metadata": {
        "colab": {
          "base_uri": "https://localhost:8080/"
        },
        "id": "RkYwWlC_DHgw",
        "outputId": "999a85d5-179d-490d-c151-dec6c43f1af2"
      },
      "outputs": [
        {
          "output_type": "execute_result",
          "data": {
            "text/plain": [
              "array([ 6, 10])"
            ]
          },
          "metadata": {},
          "execution_count": 160
        }
      ],
      "source": [
        "X = np.array([-1,2,0,-4,5,6,0,0,-9,10])\n",
        "mask = X > 5\n",
        "X[mask]\n"
      ]
    },
    {
      "cell_type": "code",
      "execution_count": 161,
      "metadata": {
        "cell_type": "solution",
        "colab": {
          "base_uri": "https://localhost:8080/"
        },
        "id": "YnrsIfNCDHgw",
        "outputId": "87b58394-809a-425b-8f0e-c971c24e2f0f"
      },
      "outputs": [
        {
          "output_type": "execute_result",
          "data": {
            "text/plain": [
              "array([ 6, 10])"
            ]
          },
          "metadata": {},
          "execution_count": 161
        }
      ],
      "source": [
        "X = np.array([-1, 2, 0, -4, 5, 6, 0, 0, -9, 10])\n",
        "\n",
        "mask = X > 5\n",
        "X[mask]"
      ]
    },
    {
      "cell_type": "markdown",
      "metadata": {
        "id": "RBA2omgjDHgw"
      },
      "source": [
        "![green-divider](https://user-images.githubusercontent.com/7065401/52071924-c003ad80-2562-11e9-8297-1c6595f8a7ff.png)\n",
        "\n",
        "### Given the X numpy array, get numbers higher than the elements mean"
      ]
    },
    {
      "cell_type": "code",
      "execution_count": 164,
      "metadata": {
        "colab": {
          "base_uri": "https://localhost:8080/"
        },
        "id": "kRjEZUdlDHgw",
        "outputId": "3ceb4133-cfd7-4078-cdd3-23a18cc373e3"
      },
      "outputs": [
        {
          "output_type": "stream",
          "name": "stdout",
          "text": [
            "[ 2  5  6 10]\n"
          ]
        },
        {
          "output_type": "execute_result",
          "data": {
            "text/plain": [
              "np.float64(0.9)"
            ]
          },
          "metadata": {},
          "execution_count": 164
        }
      ],
      "source": [
        "X = np.array([-1,2,0,-4,5,6,0,0,-9,10])\n",
        "mask = X > X.mean()\n",
        "print(X[mask])\n",
        "X.mean()"
      ]
    },
    {
      "cell_type": "code",
      "execution_count": null,
      "metadata": {
        "cell_type": "solution",
        "id": "EAN1LJXHDHgx"
      },
      "outputs": [],
      "source": [
        "X = np.array([-1, 2, 0, -4, 5, 6, 0, 0, -9, 10])\n",
        "\n",
        "mask = X > X.mean()\n",
        "X[mask]"
      ]
    },
    {
      "cell_type": "markdown",
      "metadata": {
        "id": "FJX79yOxDHgx"
      },
      "source": [
        "![green-divider](https://user-images.githubusercontent.com/7065401/52071924-c003ad80-2562-11e9-8297-1c6595f8a7ff.png)\n",
        "\n",
        "### Given the X numpy array, get numbers equal to 2 or 10"
      ]
    },
    {
      "cell_type": "code",
      "execution_count": 166,
      "metadata": {
        "colab": {
          "base_uri": "https://localhost:8080/"
        },
        "id": "alxo1HFEDHgx",
        "outputId": "28118806-29be-468f-a01a-b34c82bcc913"
      },
      "outputs": [
        {
          "output_type": "execute_result",
          "data": {
            "text/plain": [
              "array([ 2, 10])"
            ]
          },
          "metadata": {},
          "execution_count": 166
        }
      ],
      "source": [
        "X = np.array([-1,2,0,-4,5,6,0,0,-9,10])\n",
        "mask = (X == 2) | (X == 10)\n",
        "X[mask]"
      ]
    },
    {
      "cell_type": "code",
      "execution_count": null,
      "metadata": {
        "cell_type": "solution",
        "scrolled": true,
        "id": "698OaKeYDHgx"
      },
      "outputs": [],
      "source": [
        "X = np.array([-1, 2, 0, -4, 5, 6, 0, 0, -9, 10])\n",
        "\n",
        "mask = (X == 2) | (X == 10)\n",
        "X[mask]"
      ]
    },
    {
      "cell_type": "markdown",
      "metadata": {
        "id": "OnOFY6bMDHgx"
      },
      "source": [
        "![purple-divider](https://user-images.githubusercontent.com/7065401/52071927-c1cd7100-2562-11e9-908a-dde91ba14e59.png)\n",
        "\n",
        "## Logic functions\n"
      ]
    },
    {
      "cell_type": "markdown",
      "metadata": {
        "id": "fEt9kX_-DHgx"
      },
      "source": [
        "### Given the X numpy array, return True if none of its elements is zero"
      ]
    },
    {
      "cell_type": "code",
      "execution_count": 171,
      "metadata": {
        "colab": {
          "base_uri": "https://localhost:8080/"
        },
        "id": "PBgEGJ8cDHgx",
        "outputId": "b5ca7652-f216-45cc-8726-85b0000a17d7"
      },
      "outputs": [
        {
          "output_type": "stream",
          "name": "stdout",
          "text": [
            "False\n"
          ]
        }
      ],
      "source": [
        "X = np.array([-1,2,0,-4,5,6,0,0,-9,10])\n",
        "\n",
        "if X.all() > 0:\n",
        "    print(True)\n",
        "else:\n",
        "    print(False)"
      ]
    },
    {
      "cell_type": "code",
      "execution_count": null,
      "metadata": {
        "cell_type": "solution",
        "id": "DWpLyi-DDHgx"
      },
      "outputs": [],
      "source": [
        "X = np.array([-1, 2, 0, -4, 5, 6, 0, 0, -9, 10])\n",
        "\n",
        "X.all()"
      ]
    },
    {
      "cell_type": "markdown",
      "metadata": {
        "id": "X1SbYmMRDHgx"
      },
      "source": [
        "![green-divider](https://user-images.githubusercontent.com/7065401/52071924-c003ad80-2562-11e9-8297-1c6595f8a7ff.png)\n",
        "\n",
        "### Given the X numpy array, return True if any of its elements is zero"
      ]
    },
    {
      "cell_type": "code",
      "execution_count": 183,
      "metadata": {
        "colab": {
          "base_uri": "https://localhost:8080/"
        },
        "id": "UUCIjbi0DHgx",
        "outputId": "c0a1fe6d-caa7-4086-e297-81786de36049"
      },
      "outputs": [
        {
          "output_type": "execute_result",
          "data": {
            "text/plain": [
              "True"
            ]
          },
          "metadata": {},
          "execution_count": 183
        }
      ],
      "source": [
        "X = np.array([-1,2,0,-4,5,6,0,0,-9,10])\n",
        "0 in X\n"
      ]
    },
    {
      "cell_type": "code",
      "execution_count": 188,
      "metadata": {
        "cell_type": "solution",
        "colab": {
          "base_uri": "https://localhost:8080/"
        },
        "id": "rfvzajLBDHgx",
        "outputId": "25636c4d-4b2c-4128-ef29-d896fe4c63c0"
      },
      "outputs": [
        {
          "output_type": "stream",
          "name": "stdout",
          "text": [
            "True\n"
          ]
        },
        {
          "output_type": "execute_result",
          "data": {
            "text/plain": [
              "np.True_"
            ]
          },
          "metadata": {},
          "execution_count": 188
        }
      ],
      "source": [
        "X = np.array([-1, 2, 0, -4, 5, 6, 0, 0, -9, 10])\n",
        "\n",
        "print(X.any())\n",
        "(X==2).any()"
      ]
    },
    {
      "cell_type": "markdown",
      "metadata": {
        "id": "wb4pKPW7DHgx"
      },
      "source": [
        "![purple-divider](https://user-images.githubusercontent.com/7065401/52071927-c1cd7100-2562-11e9-908a-dde91ba14e59.png)\n",
        "\n",
        "## Summary statistics"
      ]
    },
    {
      "cell_type": "markdown",
      "metadata": {
        "id": "jHGLf8ORDHgx"
      },
      "source": [
        "### Given the X numpy array, show the sum of its elements"
      ]
    },
    {
      "cell_type": "code",
      "execution_count": 189,
      "metadata": {
        "colab": {
          "base_uri": "https://localhost:8080/"
        },
        "id": "9Ek5CAVJDHgx",
        "outputId": "7a6f6d1d-11cc-41c9-d803-5c7d14435f46"
      },
      "outputs": [
        {
          "output_type": "execute_result",
          "data": {
            "text/plain": [
              "np.int64(9)"
            ]
          },
          "metadata": {},
          "execution_count": 189
        }
      ],
      "source": [
        "X = np.array([-1,2,0,-4,5,6,0,0,-9,10])\n",
        "X.sum()"
      ]
    },
    {
      "cell_type": "code",
      "execution_count": null,
      "metadata": {
        "cell_type": "solution",
        "id": "4mk9Vx4RDHgx"
      },
      "outputs": [],
      "source": [
        "X = np.array([-1,2,0,-4,5,6,0,0,-9,10])\n",
        "\n",
        "#np.sum(X)\n",
        "X.sum()"
      ]
    },
    {
      "cell_type": "markdown",
      "metadata": {
        "id": "I0ACfs4xDHgx"
      },
      "source": [
        "![green-divider](https://user-images.githubusercontent.com/7065401/52071924-c003ad80-2562-11e9-8297-1c6595f8a7ff.png)\n",
        "\n",
        "### Given the X numpy array, show the mean value of its elements"
      ]
    },
    {
      "cell_type": "code",
      "execution_count": 190,
      "metadata": {
        "colab": {
          "base_uri": "https://localhost:8080/"
        },
        "id": "XyrzYaJ-DHgx",
        "outputId": "84104d44-2f4c-407c-f828-dc25e1872e33"
      },
      "outputs": [
        {
          "output_type": "execute_result",
          "data": {
            "text/plain": [
              "np.float64(3.7)"
            ]
          },
          "metadata": {},
          "execution_count": 190
        }
      ],
      "source": [
        "X = np.array([1, 2, 0, 4, 5, 6, 0, 0, 9, 10])\n",
        "X.mean()\n"
      ]
    },
    {
      "cell_type": "code",
      "execution_count": 191,
      "metadata": {
        "cell_type": "solution",
        "colab": {
          "base_uri": "https://localhost:8080/"
        },
        "id": "oJq6MVFNDHgx",
        "outputId": "154ba473-201a-45d4-af63-09d0db1c5722"
      },
      "outputs": [
        {
          "output_type": "execute_result",
          "data": {
            "text/plain": [
              "np.float64(3.7)"
            ]
          },
          "metadata": {},
          "execution_count": 191
        }
      ],
      "source": [
        "X = np.array([1, 2, 0, 4, 5, 6, 0, 0, 9, 10])\n",
        "\n",
        "#np.mean(X)\n",
        "X.mean()"
      ]
    },
    {
      "cell_type": "markdown",
      "metadata": {
        "id": "BN6hHqQcDHgx"
      },
      "source": [
        "![green-divider](https://user-images.githubusercontent.com/7065401/52071924-c003ad80-2562-11e9-8297-1c6595f8a7ff.png)\n",
        "\n",
        "### Given the X numpy matrix, show the sum of its columns"
      ]
    },
    {
      "cell_type": "code",
      "execution_count": 197,
      "metadata": {
        "colab": {
          "base_uri": "https://localhost:8080/"
        },
        "id": "R5Hc5qrKDHgx",
        "outputId": "9f506ec3-16b2-49a1-9b7a-27c240083c05"
      },
      "outputs": [
        {
          "output_type": "execute_result",
          "data": {
            "text/plain": [
              "array([10, 26, 42, 58])"
            ]
          },
          "metadata": {},
          "execution_count": 197
        }
      ],
      "source": [
        "X = np.array([\n",
        "    [1,   2,  3,  4],\n",
        "    [5,   6,  7,  8],\n",
        "    [9,  10, 11, 12],\n",
        "    [13, 14, 15, 16]\n",
        "])\n",
        "\n",
        "X.sum(axis=1)"
      ]
    },
    {
      "cell_type": "code",
      "execution_count": null,
      "metadata": {
        "cell_type": "solution",
        "id": "HX96h3W1DHgy"
      },
      "outputs": [],
      "source": [
        "X = np.array([\n",
        "    [1,   2,  3,  4],\n",
        "    [5,   6,  7,  8],\n",
        "    [9,  10, 11, 12],\n",
        "    [13, 14, 15, 16]\n",
        "])\n",
        "\n",
        "X.sum(axis=0) # remember: axis=0 columns; axis=1 rows"
      ]
    },
    {
      "cell_type": "markdown",
      "metadata": {
        "id": "k8_IPlF4DHgy"
      },
      "source": [
        "![green-divider](https://user-images.githubusercontent.com/7065401/52071924-c003ad80-2562-11e9-8297-1c6595f8a7ff.png)\n",
        "\n",
        "### Given the X numpy matrix, show the mean value of its rows"
      ]
    },
    {
      "cell_type": "code",
      "execution_count": 198,
      "metadata": {
        "colab": {
          "base_uri": "https://localhost:8080/"
        },
        "id": "hOuWueQbDHgy",
        "outputId": "cdf4dd1e-7051-49ec-daab-9b6f30d95515"
      },
      "outputs": [
        {
          "output_type": "execute_result",
          "data": {
            "text/plain": [
              "array([ 2.5,  6.5, 10.5, 14.5])"
            ]
          },
          "metadata": {},
          "execution_count": 198
        }
      ],
      "source": [
        "X = np.array([\n",
        "    [1,   2,  3,  4],\n",
        "    [5,   6,  7,  8],\n",
        "    [9,  10, 11, 12],\n",
        "    [13, 14, 15, 16]\n",
        "])\n",
        "\n",
        "X.mean(axis=1)"
      ]
    },
    {
      "cell_type": "code",
      "execution_count": 199,
      "metadata": {
        "cell_type": "solution",
        "colab": {
          "base_uri": "https://localhost:8080/"
        },
        "id": "xzL8prDhDHgy",
        "outputId": "8fac4639-e88a-4df4-80c8-cda91881ac21"
      },
      "outputs": [
        {
          "output_type": "execute_result",
          "data": {
            "text/plain": [
              "array([ 2.5,  6.5, 10.5, 14.5])"
            ]
          },
          "metadata": {},
          "execution_count": 199
        }
      ],
      "source": [
        "X = np.array([\n",
        "    [1,   2,  3,  4],\n",
        "    [5,   6,  7,  8],\n",
        "    [9,  10, 11, 12],\n",
        "    [13, 14, 15, 16]\n",
        "])\n",
        "\n",
        "X.mean(axis=1) # remember: axis=0 columns; axis=1 rows"
      ]
    },
    {
      "cell_type": "markdown",
      "metadata": {
        "id": "o7IdAZB9DHgy"
      },
      "source": [
        "![green-divider](https://user-images.githubusercontent.com/7065401/52071924-c003ad80-2562-11e9-8297-1c6595f8a7ff.png)\n",
        "\n",
        "### Given the X numpy array, show the max value of its elements"
      ]
    },
    {
      "cell_type": "code",
      "execution_count": 202,
      "metadata": {
        "colab": {
          "base_uri": "https://localhost:8080/"
        },
        "id": "IvYH_komDHgy",
        "outputId": "5b01f2cc-4321-401e-8bb4-fcbc42ac3f05"
      },
      "outputs": [
        {
          "output_type": "execute_result",
          "data": {
            "text/plain": [
              "array([13, 14, 15, 16])"
            ]
          },
          "metadata": {},
          "execution_count": 202
        }
      ],
      "source": [
        "X = np.array([\n",
        "    [1,   2,  3,  4],\n",
        "    [5,   6,  7,  8],\n",
        "    [9,  10, 11, 12],\n",
        "    [13, 14, 15, 16]\n",
        "])\n",
        "\n",
        "X.max(axis = 0)"
      ]
    },
    {
      "cell_type": "code",
      "execution_count": null,
      "metadata": {
        "cell_type": "solution",
        "id": "t1jYqRbYDHgy"
      },
      "outputs": [],
      "source": [
        "X = np.array([1, 2, 0, 4, 5, 6, 0, 0, 9, 10])\n",
        "\n",
        "#np.max(X)\n",
        "X.max()"
      ]
    },
    {
      "cell_type": "markdown",
      "metadata": {
        "id": "PdJsa8rLDHgy"
      },
      "source": [
        "![purple-divider](https://user-images.githubusercontent.com/7065401/52071927-c1cd7100-2562-11e9-908a-dde91ba14e59.png)"
      ]
    }
  ],
  "metadata": {
    "kernelspec": {
      "display_name": "Python 3",
      "language": "python",
      "name": "python3"
    },
    "language_info": {
      "codemirror_mode": {
        "name": "ipython",
        "version": 3
      },
      "file_extension": ".py",
      "mimetype": "text/x-python",
      "name": "python",
      "nbconvert_exporter": "python",
      "pygments_lexer": "ipython3",
      "version": "3.8.1"
    },
    "colab": {
      "provenance": [],
      "include_colab_link": true
    }
  },
  "nbformat": 4,
  "nbformat_minor": 0
}